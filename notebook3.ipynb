{
 "cells": [
  {
   "cell_type": "code",
   "execution_count": 1,
   "id": "ab514db1-fddb-43c3-b319-c2fef9c62fe0",
   "metadata": {},
   "outputs": [],
   "source": [
    "import ipywidgets as widgets\n",
    "from IPython.display import display, Javascript, Markdown, clear_output"
   ]
  },
  {
   "cell_type": "code",
   "execution_count": 2,
   "id": "772aa998",
   "metadata": {},
   "outputs": [],
   "source": [
    "# Question 3\n",
    "question3 = \"Which planet is known as the Red Planet?\"\n",
    "options3 = [\"Earth\", \"Jupiter\", \"Mars\", \"Saturn\"]"
   ]
  },
  {
   "cell_type": "code",
   "execution_count": 3,
   "id": "ec5ae900",
   "metadata": {},
   "outputs": [],
   "source": [
    "# Display question and options as widgets\n",
    "question_widget3 = widgets.HTML(value=f\"<h3>{question3}</h3>\")\n",
    "options_widget3 = widgets.RadioButtons(options=options3, layout={'width': 'max-content'})"
   ]
  },
  {
   "cell_type": "code",
   "execution_count": 4,
   "id": "1a5989eb",
   "metadata": {},
   "outputs": [],
   "source": [
    "# Create a button to go to the next question--------\n",
    "next_button = widgets.Button(description=\"Submit\")"
   ]
  },
  {
   "cell_type": "code",
   "execution_count": 5,
   "id": "341760e6",
   "metadata": {},
   "outputs": [],
   "source": [
    "choice = widgets.Text(description = \"selected: \")"
   ]
  },
  {
   "cell_type": "code",
   "execution_count": 6,
   "id": "ca942043",
   "metadata": {},
   "outputs": [],
   "source": [
    "output = widgets.Output()\n",
    "def on_button_clicked(event):\n",
    "    with output:\n",
    "        clear_output()\n",
    "        global selected_option\n",
    "        link = \"Submit your answer for next question\"\n",
    "        selected_option = options_widget3.value\n",
    "        if not selected_option:\n",
    "            choice.value = \"Not selected\"\n",
    "        else:\n",
    "            choice.value = selected_option\n",
    "        if selected_option == \"Earth\":\n",
    "            link = Markdown(\"[Next](notebook2.ipynb)\")\n",
    "            # display(Javascript('window.location.href = \"dummy2.ipynb\";'))\n",
    "        elif selected_option == \"Jupiter\":\n",
    "            link = Markdown(\"[Next](notebook3.ipynb)\")\n",
    "            # display(Javascript('window.location.href = \"dummy3.ipynb\";'))\n",
    "        elif selected_option == \"Mars\":\n",
    "            link = Markdown(\"[Next](https://www.google.com)\")\n",
    "            # display(Javascript('window.location.href = \"https://www.google.com\";'))\n",
    "        elif selected_option == \"Saturn\":\n",
    "            link = Markdown(\"[Next](https://voila.readthedocs.io/en/stable/deploy.html)\")\n",
    "        display(link)\n",
    "        \n",
    "next_button.on_click(on_button_clicked)\n",
    "vbox_result = widgets.VBox([question_widget3, options_widget3, next_button, output, choice])"
   ]
  },
  {
   "cell_type": "code",
   "execution_count": 7,
   "id": "a504d37c",
   "metadata": {},
   "outputs": [
    {
     "data": {
      "application/vnd.jupyter.widget-view+json": {
       "model_id": "bf1c334fe5fe4028a855b5d40abb4b76",
       "version_major": 2,
       "version_minor": 0
      },
      "text/plain": [
       "VBox(children=(HTML(value='<h3>Which planet is known as the Red Planet?</h3>'), RadioButtons(layout=Layout(wid…"
      ]
     },
     "metadata": {},
     "output_type": "display_data"
    }
   ],
   "source": [
    "display(vbox_result)"
   ]
  },
  {
   "cell_type": "code",
   "execution_count": null,
   "id": "70a19670",
   "metadata": {},
   "outputs": [],
   "source": []
  }
 ],
 "metadata": {
  "kernelspec": {
   "display_name": "Python 3 (ipykernel)",
   "language": "python",
   "name": "python3"
  },
  "language_info": {
   "codemirror_mode": {
    "name": "ipython",
    "version": 3
   },
   "file_extension": ".py",
   "mimetype": "text/x-python",
   "name": "python",
   "nbconvert_exporter": "python",
   "pygments_lexer": "ipython3",
   "version": "3.12.3"
  }
 },
 "nbformat": 4,
 "nbformat_minor": 5
}
